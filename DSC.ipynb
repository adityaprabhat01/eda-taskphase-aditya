{
 "cells": [
  {
   "cell_type": "code",
   "execution_count": 2,
   "metadata": {},
   "outputs": [],
   "source": [
    "import numpy as np\n",
    "import pandas as pd\n",
    "import matplotlib.pyplot as plt\n",
    "import seaborn as sns\n",
    "%matplotlib inline\n",
    "plt.rcParams[\"figure.figsize\"] = (10,6)"
   ]
  },
  {
   "cell_type": "code",
   "execution_count": 3,
   "metadata": {},
   "outputs": [
    {
     "name": "stdout",
     "output_type": "stream",
     "text": [
      "Number of missing data : 0\n"
     ]
    },
    {
     "data": {
      "text/html": [
       "<div>\n",
       "<style scoped>\n",
       "    .dataframe tbody tr th:only-of-type {\n",
       "        vertical-align: middle;\n",
       "    }\n",
       "\n",
       "    .dataframe tbody tr th {\n",
       "        vertical-align: top;\n",
       "    }\n",
       "\n",
       "    .dataframe thead th {\n",
       "        text-align: right;\n",
       "    }\n",
       "</style>\n",
       "<table border=\"1\" class=\"dataframe\">\n",
       "  <thead>\n",
       "    <tr style=\"text-align: right;\">\n",
       "      <th></th>\n",
       "      <th>id</th>\n",
       "      <th>age</th>\n",
       "      <th>job</th>\n",
       "      <th>marital</th>\n",
       "      <th>education</th>\n",
       "      <th>default</th>\n",
       "      <th>housing</th>\n",
       "      <th>loan</th>\n",
       "      <th>contact</th>\n",
       "      <th>month</th>\n",
       "      <th>...</th>\n",
       "      <th>campaign</th>\n",
       "      <th>pdays</th>\n",
       "      <th>previous</th>\n",
       "      <th>poutcome</th>\n",
       "      <th>emp.var.rate</th>\n",
       "      <th>cons.price.idx</th>\n",
       "      <th>cons.conf.idx</th>\n",
       "      <th>euribor3m</th>\n",
       "      <th>nr.employed</th>\n",
       "      <th>y</th>\n",
       "    </tr>\n",
       "  </thead>\n",
       "  <tbody>\n",
       "    <tr>\n",
       "      <th>0</th>\n",
       "      <td>0</td>\n",
       "      <td>56</td>\n",
       "      <td>housemaid</td>\n",
       "      <td>married</td>\n",
       "      <td>basic.4y</td>\n",
       "      <td>no</td>\n",
       "      <td>no</td>\n",
       "      <td>no</td>\n",
       "      <td>telephone</td>\n",
       "      <td>may</td>\n",
       "      <td>...</td>\n",
       "      <td>1</td>\n",
       "      <td>999</td>\n",
       "      <td>0</td>\n",
       "      <td>nonexistent</td>\n",
       "      <td>1.1</td>\n",
       "      <td>93.994</td>\n",
       "      <td>-36.4</td>\n",
       "      <td>4.857</td>\n",
       "      <td>5191.0</td>\n",
       "      <td>no</td>\n",
       "    </tr>\n",
       "    <tr>\n",
       "      <th>1</th>\n",
       "      <td>1</td>\n",
       "      <td>57</td>\n",
       "      <td>services</td>\n",
       "      <td>married</td>\n",
       "      <td>high.school</td>\n",
       "      <td>unknown</td>\n",
       "      <td>no</td>\n",
       "      <td>no</td>\n",
       "      <td>telephone</td>\n",
       "      <td>may</td>\n",
       "      <td>...</td>\n",
       "      <td>1</td>\n",
       "      <td>999</td>\n",
       "      <td>0</td>\n",
       "      <td>nonexistent</td>\n",
       "      <td>1.1</td>\n",
       "      <td>93.994</td>\n",
       "      <td>-36.4</td>\n",
       "      <td>4.857</td>\n",
       "      <td>5191.0</td>\n",
       "      <td>no</td>\n",
       "    </tr>\n",
       "    <tr>\n",
       "      <th>2</th>\n",
       "      <td>2</td>\n",
       "      <td>37</td>\n",
       "      <td>services</td>\n",
       "      <td>married</td>\n",
       "      <td>high.school</td>\n",
       "      <td>no</td>\n",
       "      <td>yes</td>\n",
       "      <td>no</td>\n",
       "      <td>telephone</td>\n",
       "      <td>may</td>\n",
       "      <td>...</td>\n",
       "      <td>1</td>\n",
       "      <td>999</td>\n",
       "      <td>0</td>\n",
       "      <td>nonexistent</td>\n",
       "      <td>1.1</td>\n",
       "      <td>93.994</td>\n",
       "      <td>-36.4</td>\n",
       "      <td>4.857</td>\n",
       "      <td>5191.0</td>\n",
       "      <td>no</td>\n",
       "    </tr>\n",
       "    <tr>\n",
       "      <th>3</th>\n",
       "      <td>4</td>\n",
       "      <td>56</td>\n",
       "      <td>services</td>\n",
       "      <td>married</td>\n",
       "      <td>high.school</td>\n",
       "      <td>no</td>\n",
       "      <td>no</td>\n",
       "      <td>yes</td>\n",
       "      <td>telephone</td>\n",
       "      <td>may</td>\n",
       "      <td>...</td>\n",
       "      <td>1</td>\n",
       "      <td>999</td>\n",
       "      <td>0</td>\n",
       "      <td>nonexistent</td>\n",
       "      <td>1.1</td>\n",
       "      <td>93.994</td>\n",
       "      <td>-36.4</td>\n",
       "      <td>4.857</td>\n",
       "      <td>5191.0</td>\n",
       "      <td>no</td>\n",
       "    </tr>\n",
       "    <tr>\n",
       "      <th>4</th>\n",
       "      <td>5</td>\n",
       "      <td>45</td>\n",
       "      <td>services</td>\n",
       "      <td>married</td>\n",
       "      <td>basic.9y</td>\n",
       "      <td>unknown</td>\n",
       "      <td>no</td>\n",
       "      <td>no</td>\n",
       "      <td>telephone</td>\n",
       "      <td>may</td>\n",
       "      <td>...</td>\n",
       "      <td>1</td>\n",
       "      <td>999</td>\n",
       "      <td>0</td>\n",
       "      <td>nonexistent</td>\n",
       "      <td>1.1</td>\n",
       "      <td>93.994</td>\n",
       "      <td>-36.4</td>\n",
       "      <td>4.857</td>\n",
       "      <td>5191.0</td>\n",
       "      <td>no</td>\n",
       "    </tr>\n",
       "  </tbody>\n",
       "</table>\n",
       "<p>5 rows × 22 columns</p>\n",
       "</div>"
      ],
      "text/plain": [
       "   id  age        job  marital    education  default housing loan    contact  \\\n",
       "0   0   56  housemaid  married     basic.4y       no      no   no  telephone   \n",
       "1   1   57   services  married  high.school  unknown      no   no  telephone   \n",
       "2   2   37   services  married  high.school       no     yes   no  telephone   \n",
       "3   4   56   services  married  high.school       no      no  yes  telephone   \n",
       "4   5   45   services  married     basic.9y  unknown      no   no  telephone   \n",
       "\n",
       "  month  ... campaign  pdays  previous     poutcome  emp.var.rate  \\\n",
       "0   may  ...        1    999         0  nonexistent           1.1   \n",
       "1   may  ...        1    999         0  nonexistent           1.1   \n",
       "2   may  ...        1    999         0  nonexistent           1.1   \n",
       "3   may  ...        1    999         0  nonexistent           1.1   \n",
       "4   may  ...        1    999         0  nonexistent           1.1   \n",
       "\n",
       "  cons.price.idx  cons.conf.idx  euribor3m  nr.employed   y  \n",
       "0         93.994          -36.4      4.857       5191.0  no  \n",
       "1         93.994          -36.4      4.857       5191.0  no  \n",
       "2         93.994          -36.4      4.857       5191.0  no  \n",
       "3         93.994          -36.4      4.857       5191.0  no  \n",
       "4         93.994          -36.4      4.857       5191.0  no  \n",
       "\n",
       "[5 rows x 22 columns]"
      ]
     },
     "execution_count": 3,
     "metadata": {},
     "output_type": "execute_result"
    }
   ],
   "source": [
    "df = pd.read_csv('train.csv')\n",
    "print(\"Number of missing data :\",df.isnull().sum().sum())\n",
    "df.head()"
   ]
  },
  {
   "cell_type": "code",
   "execution_count": 4,
   "metadata": {},
   "outputs": [
    {
     "data": {
      "text/plain": [
       "id                  int64\n",
       "age                 int64\n",
       "job                object\n",
       "marital            object\n",
       "education          object\n",
       "default            object\n",
       "housing            object\n",
       "loan               object\n",
       "contact            object\n",
       "month              object\n",
       "day_of_week        object\n",
       "duration            int64\n",
       "campaign            int64\n",
       "pdays               int64\n",
       "previous            int64\n",
       "poutcome           object\n",
       "emp.var.rate      float64\n",
       "cons.price.idx    float64\n",
       "cons.conf.idx     float64\n",
       "euribor3m         float64\n",
       "nr.employed       float64\n",
       "y                  object\n",
       "dtype: object"
      ]
     },
     "execution_count": 4,
     "metadata": {},
     "output_type": "execute_result"
    }
   ],
   "source": [
    "df.dtypes"
   ]
  },
  {
   "cell_type": "code",
   "execution_count": 5,
   "metadata": {},
   "outputs": [
    {
     "name": "stdout",
     "output_type": "stream",
     "text": [
      "['job', 'marital', 'education', 'default', 'housing', 'loan', 'contact', 'month', 'day_of_week', 'prev_outcomes']\n",
      "['id', 'age', 'duration', 'campaign', 'pdays', 'previous', 'poutcome', 'emp.var.rate', 'cons.price.idx', 'cons.conf.idx', 'euribor3m', 'nr.employed', 'y']\n"
     ]
    }
   ],
   "source": [
    "columns = df.columns.tolist()\n",
    "categorical_columns = ['job', 'marital', 'education', 'default', 'housing', 'loan', 'contact', 'month', 'day_of_week', 'prev_outcomes']\n",
    "numeric_columns = [w for w in columns if w not in categorical_columns]\n",
    "print(categorical_columns)\n",
    "print(numeric_columns)"
   ]
  },
  {
   "cell_type": "code",
   "execution_count": 6,
   "metadata": {},
   "outputs": [
    {
     "data": {
      "image/png": "[encoded data removed]",
      "text/plain": [
       "<Figure size 720x432 with 1 Axes>"
      ]
     },
     "metadata": {
      "needs_background": "light"
     },
     "output_type": "display_data"
    }
   ],
   "source": [
    "yes = df[df['y'] == 'yes'].count()[0]\n",
    "no = df[df['y'] == 'no'].count()[0]\n",
    "plt.bar(['yes', 'no'], [yes, no], width = 0.5)\n",
    "plt.show()"
   ]
  },
  {
   "cell_type": "code",
   "execution_count": 7,
   "metadata": {},
   "outputs": [],
   "source": [
    "job = df['job'].unique().tolist()\n",
    "ynu = ['yes', 'no', 'unknown']\n",
    "day = df['day_of_week'].unique().tolist()\n",
    "contact = df['contact'].unique().tolist()\n",
    "education = df['education'].unique().tolist()\n",
    "age = df['age'].unique().tolist()\n",
    "\n",
    "yes_age = []\n",
    "yes_job = []\n",
    "yes_loan = []\n",
    "yes_housing = []\n",
    "yes_day = []\n",
    "yes_contact = []\n",
    "yes_education = []\n",
    "yes_age = []\n",
    "\n",
    "for w in job :\n",
    "    count = 0\n",
    "    for i in range(len(df)) :\n",
    "        if(df.loc[i][2] == w and df.loc[i][21] == 'yes') :\n",
    "            count += 1\n",
    "    yes_job.append(count)\n",
    "    \n",
    "for w in ynu :\n",
    "    count = 0\n",
    "    for i in range(len(df)) :\n",
    "        if(df.loc[i][7] == w and df.loc[i][21] == 'yes') :\n",
    "            count += 1\n",
    "    yes_loan.append(count)\n",
    "\n",
    "for w in ynu :\n",
    "    count = 0\n",
    "    for i in range(len(df)) :\n",
    "        if(df.loc[i][6] == w and df.loc[i][21] == 'yes') :\n",
    "            count += 1\n",
    "    yes_housing.append(count)\n",
    "    \n",
    "for w in day :\n",
    "    count = 0\n",
    "    for i in range(len(df)) :\n",
    "        if(df.loc[i][10] == w and df.loc[i][21] == 'yes') :\n",
    "            count += 1\n",
    "    yes_day.append(count)\n",
    "    \n",
    "for w in contact :\n",
    "    count = 0\n",
    "    for i in range(len(df)) :\n",
    "        if(df.loc[i][8] == w and df.loc[i][21] == 'yes') :\n",
    "            count += 1\n",
    "    yes_contact.append(count)\n",
    "    \n",
    "for w in education :\n",
    "    count = 0\n",
    "    for i in range(len(df)) :\n",
    "        if(df.loc[i][4] == w and df.loc[i][21] == 'yes') :\n",
    "            count += 1\n",
    "    yes_education.append(count)\n",
    "\n",
    "\n",
    "for w in age :\n",
    "    for i in range(len(df)) :\n",
    "        if(df.loc[i][1] == w and df.loc[i][21] == 'yes') :\n",
    "            yes_age.append(w)\n",
    "            "
   ]
  },
  {
   "cell_type": "code",
   "execution_count": 8,
   "metadata": {
    "scrolled": false
   },
   "outputs": [
    {
     "data": {
      "image/png": "[encoded data removed]",
      "text/plain": [
       "<Figure size 720x432 with 1 Axes>"
      ]
     },
     "metadata": {
      "needs_background": "light"
     },
     "output_type": "display_data"
    },
    {
     "data": {
      "image/png": "[encoded data removed]",
      "text/plain": [
       "<Figure size 720x432 with 1 Axes>"
      ]
     },
     "metadata": {
      "needs_background": "light"
     },
     "output_type": "display_data"
    },
    {
     "data": {
      "image/png": "[encoded data removed]",
      "text/plain": [
       "<Figure size 720x432 with 1 Axes>"
      ]
     },
     "metadata": {
      "needs_background": "light"
     },
     "output_type": "display_data"
    },
    {
     "data": {
      "image/png": "[encoded data removed]",
      "text/plain": [
       "<Figure size 720x432 with 1 Axes>"
      ]
     },
     "metadata": {
      "needs_background": "light"
     },
     "output_type": "display_data"
    },
    {
     "data": {
      "image/png": "[encoded data removed]",
      "text/plain": [
       "<Figure size 720x432 with 1 Axes>"
      ]
     },
     "metadata": {
      "needs_background": "light"
     },
     "output_type": "display_data"
    },
    {
     "data": {
      "image/png": "[encoded data removed]",
      "text/plain": [
       "<Figure size 720x432 with 1 Axes>"
      ]
     },
     "metadata": {
      "needs_background": "light"
     },
     "output_type": "display_data"
    },
    {
     "data": {
      "image/png": "[encoded data removed]",
      "text/plain": [
       "<Figure size 720x432 with 1 Axes>"
      ]
     },
     "metadata": {
      "needs_background": "light"
     },
     "output_type": "display_data"
    }
   ],
   "source": [
    "plt.bar(job, yes_job, color = 'lightcoral', width = 0.7)\n",
    "plt.xticks(rotation = 30)\n",
    "plt.xlabel('Job')\n",
    "plt.ylabel('Number of people deposited')\n",
    "plt.show()\n",
    "\n",
    "plt.bar(ynu, yes_loan, width = 0.7, color = 'dimgray')\n",
    "plt.xlabel('Personal Loan')\n",
    "plt.ylabel('Number of people deposited')\n",
    "plt.show()\n",
    "\n",
    "plt.bar(ynu, yes_housing, width = 0.7, color = 'darkorchid')\n",
    "plt.xlabel('Housing Loan')\n",
    "plt.ylabel('Number of people deposited')\n",
    "plt.show()\n",
    "\n",
    "plt.bar(day, yes_day, color = 'dodgerblue', width = 0.7)\n",
    "plt.xlabel('Day')\n",
    "plt.ylabel('Number of people deposited')\n",
    "plt.show()\n",
    "\n",
    "plt.bar(contact, yes_contact, width = 0.7, color = 'aqua')\n",
    "plt.xlabel('Contact')\n",
    "plt.ylabel('Number of people deposited')\n",
    "plt.show()\n",
    "\n",
    "plt.bar(education, yes_education, color = 'greenyellow', width = 0.7)\n",
    "plt.xticks(rotation= 30)\n",
    "plt.xlabel('Education')\n",
    "plt.ylabel('Number of people deposited')\n",
    "plt.show()\n",
    "\n",
    "bins = [0,10,20,30,40,50,60,70,80]\n",
    "plt.hist(yes_age, bins, rwidth = 0.7, color = 'navy')\n",
    "plt.xlabel('Age')\n",
    "plt.ylabel('Number of people deposited')\n",
    "plt.show()"
   ]
  },
  {
   "cell_type": "code",
   "execution_count": 9,
   "metadata": {},
   "outputs": [],
   "source": [
    "month = df['month'].unique().tolist()\n",
    "yes_month = []\n",
    "yes_duration = []\n",
    "\n",
    "for w in month :\n",
    "    count = 0\n",
    "    for i in range(len(df)) :\n",
    "        if(df.loc[i][9] == w and df.loc[i][21] == 'yes') :\n",
    "            count += 1\n",
    "    yes_month.append(count)\n",
    "    \n",
    "for i in range(len(df)) :\n",
    "    if(df.loc[i][21] == 'yes') :\n",
    "        yes_duration.append(df.loc[i][11] / 60)"
   ]
  },
  {
   "cell_type": "code",
   "execution_count": 10,
   "metadata": {},
   "outputs": [
    {
     "data": {
      "image/png": "[encoded data removed]",
      "text/plain": [
       "<Figure size 720x432 with 1 Axes>"
      ]
     },
     "metadata": {},
     "output_type": "display_data"
    },
    {
     "data": {
      "image/png": "[encoded data removed]",
      "text/plain": [
       "<Figure size 720x432 with 1 Axes>"
      ]
     },
     "metadata": {
      "needs_background": "light"
     },
     "output_type": "display_data"
    },
    {
     "name": "stdout",
     "output_type": "stream",
     "text": [
      "Max Duration : 69.98333333333333\n",
      "Min Duration : 0.6166666666666667\n",
      "Mean of duration : 9.184992418160734\n",
      "Median of duration : 7.416666666666667\n"
     ]
    }
   ],
   "source": [
    "plt.pie(yes_month, labels=month, startangle = 90, shadow = True, autopct='%1.2f%%')\n",
    "plt.show()\n",
    "\n",
    "sns.boxplot(yes_duration, color = 'lawngreen', orient = 'h')\n",
    "plt.show()\n",
    "print(\"Max Duration :\",np.max(yes_duration))\n",
    "print(\"Min Duration :\",np.min(yes_duration))\n",
    "print(\"Mean of duration :\",np.mean(yes_duration))\n",
    "print(\"Median of duration :\",np.median(yes_duration))"
   ]
  },
  {
   "cell_type": "code",
   "execution_count": 11,
   "metadata": {},
   "outputs": [],
   "source": [
    "campaign = df['campaign'].unique().tolist()\n",
    "poutcome = df['poutcome'].unique().tolist()\n",
    "\n",
    "yes_campaign = []\n",
    "yes_poutcome = []"
   ]
  },
  {
   "cell_type": "code",
   "execution_count": 12,
   "metadata": {},
   "outputs": [],
   "source": [
    "for w in campaign :\n",
    "    count = 0\n",
    "    for i in range(len(df)) :\n",
    "        if(df.loc[i][12] == w and df.loc[i][21] == 'yes') :\n",
    "            count += 1\n",
    "    yes_campaign.append(count)\n",
    "    \n",
    "for w in poutcome :\n",
    "    count = 0\n",
    "    for i in range(len(df)) :\n",
    "        if(df.loc[i][15] == w and df.loc[i][21] == 'yes') :\n",
    "            count += 1\n",
    "    yes_poutcome.append(count)"
   ]
  },
  {
   "cell_type": "code",
   "execution_count": 13,
   "metadata": {},
   "outputs": [
    {
     "data": {
      "image/png": "[encoded data removed]",
      "text/plain": [
       "<Figure size 720x432 with 1 Axes>"
      ]
     },
     "metadata": {
      "needs_background": "light"
     },
     "output_type": "display_data"
    },
    {
     "data": {
      "image/png": "[encoded data removed]",
      "text/plain": [
       "<Figure size 720x432 with 1 Axes>"
      ]
     },
     "metadata": {
      "needs_background": "light"
     },
     "output_type": "display_data"
    }
   ],
   "source": [
    "plt.scatter(campaign, yes_campaign, color = 'orangered')\n",
    "plt.xlabel('campaign')\n",
    "plt.ylabel('Number of people deposited')\n",
    "plt.show()\n",
    "\n",
    "plt.bar(poutcome, yes_poutcome, color = 'violet', width = 0.7)\n",
    "plt.xlabel('poutcome')\n",
    "plt.ylabel('Number of people deposited')\n",
    "plt.show()\n",
    "\n"
   ]
  },
  {
   "cell_type": "code",
   "execution_count": 14,
   "metadata": {},
   "outputs": [
    {
     "name": "stdout",
     "output_type": "stream",
     "text": [
      "Out of 3737 people 729 people are those who have done the previous term deposits and now they agreed for the\n",
      " deposit with only the least amount of campaign.\n"
     ]
    }
   ],
   "source": [
    "poutcome_campaign = []\n",
    "for i in range(len(df)) :\n",
    "    if(df.loc[i][15] == 'success' and df.loc[i][21] == 'yes') :\n",
    "        poutcome_campaign.append(df.loc[i][12])\n",
    "\n",
    "print(\"Out of 3737 people 729 people are those who have done the previous term deposits and now they agreed for the\\n deposit with only the least amount of campaign.\")"
   ]
  },
  {
   "cell_type": "code",
   "execution_count": 15,
   "metadata": {},
   "outputs": [
    {
     "data": {
      "text/html": [
       "<div>\n",
       "<style scoped>\n",
       "    .dataframe tbody tr th:only-of-type {\n",
       "        vertical-align: middle;\n",
       "    }\n",
       "\n",
       "    .dataframe tbody tr th {\n",
       "        vertical-align: top;\n",
       "    }\n",
       "\n",
       "    .dataframe thead th {\n",
       "        text-align: right;\n",
       "    }\n",
       "</style>\n",
       "<table border=\"1\" class=\"dataframe\">\n",
       "  <thead>\n",
       "    <tr style=\"text-align: right;\">\n",
       "      <th></th>\n",
       "      <th>0</th>\n",
       "    </tr>\n",
       "  </thead>\n",
       "  <tbody>\n",
       "    <tr>\n",
       "      <th>count</th>\n",
       "      <td>729.000000</td>\n",
       "    </tr>\n",
       "    <tr>\n",
       "      <th>mean</th>\n",
       "      <td>1.713306</td>\n",
       "    </tr>\n",
       "    <tr>\n",
       "      <th>std</th>\n",
       "      <td>1.033160</td>\n",
       "    </tr>\n",
       "    <tr>\n",
       "      <th>min</th>\n",
       "      <td>1.000000</td>\n",
       "    </tr>\n",
       "    <tr>\n",
       "      <th>25%</th>\n",
       "      <td>1.000000</td>\n",
       "    </tr>\n",
       "    <tr>\n",
       "      <th>50%</th>\n",
       "      <td>1.000000</td>\n",
       "    </tr>\n",
       "    <tr>\n",
       "      <th>75%</th>\n",
       "      <td>2.000000</td>\n",
       "    </tr>\n",
       "    <tr>\n",
       "      <th>max</th>\n",
       "      <td>7.000000</td>\n",
       "    </tr>\n",
       "  </tbody>\n",
       "</table>\n",
       "</div>"
      ],
      "text/plain": [
       "                0\n",
       "count  729.000000\n",
       "mean     1.713306\n",
       "std      1.033160\n",
       "min      1.000000\n",
       "25%      1.000000\n",
       "50%      1.000000\n",
       "75%      2.000000\n",
       "max      7.000000"
      ]
     },
     "execution_count": 15,
     "metadata": {},
     "output_type": "execute_result"
    }
   ],
   "source": [
    "pd.DataFrame(poutcome_campaign).describe()"
   ]
  },
  {
   "cell_type": "markdown",
   "metadata": {},
   "source": [
    "# Insights"
   ]
  },
  {
   "cell_type": "markdown",
   "metadata": {},
   "source": [
    "<p>1. There are a total of 32978 people in the dataset. Out of them only 3737 opted for Term Deposit.</p>\n",
    "<p>2. The people here ivolved have diverse occupations. Out of them those who are at the administrative post have made most of the deposit. Technicians, Blue-collar job and retired people too have significant contributions. Also the least counts has been shown by obviously homemaid, unemployed and self-employed people. One of the target customers could be the entrepreneur.</p>\n",
    "<p>3. Most of the people who made the deposit did not have any prior or current personal loan from the same bank.</p>\n",
    "<p>4. But, most of the people who made the deposit, already had the housing loan from the bank. Despite the housing     \n",
    "loan they made a fixed deposit which directly indicates that <b>they can be good investors to the company</b>.\n",
    "<p>5. Since, most of the people are employed and spend their most of the time in the office therefore it would be preferrable for the company to contact them on their cellular phones. Contacting them on telephone wou't be a nice choice as most of the time they won't be at their home.<p>\n",
    "<p>6. It doesn't depends significantly on the day when the people were contacted during the week.\n",
    "<p>7. People who are well educated, know the importance and benfits of the fixed deposit can easly be convinced as they have the resources. But less educated people may lack money due to which they can deny the deposit.</p>\n",
    "<p>8. People in the age group (30,40) are the one who have made the largest number of deposit. These people may have a well settled job and interested in investments.</p>\n",
    "<p>9. Most of the cutomers are very active in the months of May, June, July and August.</p>\n",
    "<p>10. It can be seen that customers can be convinced to make a deposit if they talk to the agents longer about details of the term.</p>"
   ]
  },
  {
   "cell_type": "markdown",
   "metadata": {},
   "source": [
    "# Solutions"
   ]
  },
  {
   "cell_type": "markdown",
   "metadata": {},
   "source": [
    "<p>1. People already having bank accounts and credit can easily be convinced.</p>\n",
    "<p>2. People having good income and low expenses can also be easily convinced.</p>\n",
    "<p>3. People are difficult to convince if they are contacted too frequently and many times.</p> \n",
    "<p>4. It is useless to make a lot of effort during December as there it has the least number of customer.</p>\n",
    "<p>5. End of the year is the best time to replan the strtegy.</p>"
   ]
  },
  {
   "cell_type": "markdown",
   "metadata": {},
   "source": [
    "# Training Data Preprocessing"
   ]
  },
  {
   "cell_type": "code",
   "execution_count": 16,
   "metadata": {},
   "outputs": [],
   "source": [
    "import numpy as np\n",
    "import pandas as pd\n",
    "from sklearn.preprocessing import LabelEncoder, OneHotEncoder\n",
    "from sklearn import svm, linear_model, tree, neighbors\n",
    "from sklearn.model_selection import train_test_split\n",
    "from sklearn.metrics import classification_report, confusion_matrix\n",
    "from sklearn.preprocessing import MinMaxScaler"
   ]
  },
  {
   "cell_type": "code",
   "execution_count": 17,
   "metadata": {},
   "outputs": [],
   "source": [
    "df = pd.read_csv('train.csv')\n",
    "temp = df.copy()\n",
    "enc = OneHotEncoder(handle_unknown='ignore')"
   ]
  },
  {
   "cell_type": "code",
   "execution_count": 18,
   "metadata": {},
   "outputs": [],
   "source": [
    "a = np.array(df['month'])\n",
    "a = np.reshape(a, (32978,1))\n",
    "enc.fit(a)\n",
    "enc.categories_\n",
    "b = enc.transform(a).toarray()\n",
    "apr = pd.DataFrame(b[:,0])\n",
    "aug = pd.DataFrame(b[:,1])\n",
    "dec = pd.DataFrame(b[:,2])\n",
    "jul = pd.DataFrame(b[:,3])\n",
    "jun = pd.DataFrame(b[:,4])\n",
    "mar = pd.DataFrame(b[:,5])\n",
    "may = pd.DataFrame(b[:,6])\n",
    "nov = pd.DataFrame(b[:,7])\n",
    "ocb = pd.DataFrame(b[:,8])\n",
    "sep = pd.DataFrame(b[:,9])\n",
    "temp = temp.assign(apr=apr,aug=aug,dec=dec,jul=jul,jun=jun,mar=mar,may=may,nov=nov,ocb=ocb,sep=sep)"
   ]
  },
  {
   "cell_type": "code",
   "execution_count": 19,
   "metadata": {},
   "outputs": [],
   "source": [
    "j = np.array(df['job'])\n",
    "j = np.reshape(j, (32978,1))\n",
    "enc.fit(j)\n",
    "enc.categories_\n",
    "job = enc.transform(j).toarray()\n",
    "admin = pd.DataFrame(job[:,0])\n",
    "blue_collar = pd.DataFrame(job[:,1])\n",
    "entrepreneur = pd.DataFrame(job[:,2])\n",
    "housemaid = pd.DataFrame(job[:,3])\n",
    "management = pd.DataFrame(job[:,4])\n",
    "retired = pd.DataFrame(job[:,5])\n",
    "self_employed = pd.DataFrame(job[:,6])\n",
    "services = pd.DataFrame(job[:,7])\n",
    "student = pd.DataFrame(job[:,8])\n",
    "technician = pd.DataFrame(job[:,9])\n",
    "unemployed = pd.DataFrame(job[:,10])\n",
    "unknown = pd.DataFrame(job[:,11])\n",
    "temp = temp.assign(admin=admin,blue_collar=blue_collar,entrepreneur=entrepreneur,housemaid=housemaid,management=management,retired=retired,self_employed=self_employed,services=services,student=student,technician=technician,unemployed=unemployed,unknown=unknown)"
   ]
  },
  {
   "cell_type": "code",
   "execution_count": 20,
   "metadata": {},
   "outputs": [],
   "source": [
    "h = np.array(df['housing'])\n",
    "h = np.reshape(h, (32978,1))\n",
    "enc.fit(h)\n",
    "enc.categories_\n",
    "housing = enc.transform(h).toarray()\n",
    "housing_no = pd.DataFrame(housing[:,0])\n",
    "housing_unknown = pd.DataFrame(housing[:,1])\n",
    "housing_yes = pd.DataFrame(housing[:,2])\n",
    "temp = temp.assign(housing_no=housing_no,housing_unknown=housing_unknown,housing_yes=housing_yes)"
   ]
  },
  {
   "cell_type": "code",
   "execution_count": 21,
   "metadata": {},
   "outputs": [],
   "source": [
    "e = np.array(df['education'])\n",
    "e = np.reshape(e, (32978,1))\n",
    "enc.fit(e)\n",
    "enc.categories_\n",
    "education = enc.transform(e).toarray()\n",
    "basic4y = pd.DataFrame(education[:,0])\n",
    "basic6y = pd.DataFrame(education[:,0])\n",
    "basic9y = pd.DataFrame(education[:,0])\n",
    "highschool = pd.DataFrame(education[:,0])\n",
    "illiterate = pd.DataFrame(education[:,0])\n",
    "professionalcourse = pd.DataFrame(education[:,0])\n",
    "universitydegree = pd.DataFrame(education[:,0])\n",
    "unknown = pd.DataFrame(education[:,0])\n",
    "temp = pd.DataFrame(temp).assign(basic4y=basic4y,basic6y=basic6y,basic9y=basic9y,highschool=highschool,illiterate=illiterate,professionalcourse=professionalcourse,universitydegree=universitydegree,unknown=unknown)"
   ]
  },
  {
   "cell_type": "code",
   "execution_count": 22,
   "metadata": {},
   "outputs": [],
   "source": [
    "l = np.array(df['loan'])\n",
    "l = np.reshape(l, (32978,1))\n",
    "enc.fit(l)\n",
    "enc.categories_\n",
    "loan = enc.transform(l).toarray()\n",
    "loan_no = pd.DataFrame(loan[:,0])\n",
    "loan_unknown = pd.DataFrame(loan[:,1])\n",
    "loan_yes = pd.DataFrame(loan[:,2])\n",
    "temp = temp.assign(loan_no=loan_no,loan_unknown=loan_unknown,loan_yes=loan_yes)"
   ]
  },
  {
   "cell_type": "code",
   "execution_count": 23,
   "metadata": {},
   "outputs": [],
   "source": [
    "p = np.array(df['poutcome'])\n",
    "p = np.reshape(p, (32978,1))\n",
    "enc.fit(p)\n",
    "enc.categories_\n",
    "poutcome = enc.transform(p).toarray()\n",
    "poutcome_no = pd.DataFrame(poutcome[:,0])\n",
    "poutcome_unknown = pd.DataFrame(poutcome[:,1])\n",
    "poutcome_yes = pd.DataFrame(poutcome[:,2])\n",
    "temp = temp.assign(poutcome_no=poutcome_no,poutcome_unknown=poutcome_unknown,poutcome_yes=poutcome_yes)"
   ]
  },
  {
   "cell_type": "code",
   "execution_count": 24,
   "metadata": {},
   "outputs": [],
   "source": [
    "m = np.array(df['marital'])\n",
    "m = np.reshape(m, (32978,1))\n",
    "enc.fit(m)\n",
    "enc.categories_\n",
    "marital = enc.transform(m).toarray()\n",
    "marital_failure = pd.DataFrame(poutcome[:,0])\n",
    "marital_nonexistent = pd.DataFrame(poutcome[:,1])\n",
    "marital_success = pd.DataFrame(poutcome[:,2])\n",
    "temp = temp.assign(marital_failure=marital_failure,marital_nonexistent=marital_nonexistent,marital_success=marital_success)"
   ]
  },
  {
   "cell_type": "code",
   "execution_count": 25,
   "metadata": {},
   "outputs": [],
   "source": [
    "c = np.array(df['contact'])\n",
    "c = np.reshape(c, (32978,1))\n",
    "enc.fit(c)\n",
    "enc.categories_\n",
    "contact = enc.transform(c).toarray()\n",
    "contact_cellular = pd.DataFrame(poutcome[:,0])\n",
    "contact_telephone = pd.DataFrame(poutcome[:,1])\n",
    "temp = temp.assign(contact_cellular=contact_cellular,contact_telephone=contact_telephone)"
   ]
  },
  {
   "cell_type": "code",
   "execution_count": 26,
   "metadata": {},
   "outputs": [],
   "source": [
    "y = temp['y']\n",
    "temp.drop(['month','poutcome','job','id','marital','education','contact','day_of_week','duration','default','housing','loan','y'],axis=1,inplace=True)"
   ]
  },
  {
   "cell_type": "code",
   "execution_count": 27,
   "metadata": {},
   "outputs": [
    {
     "data": {
      "text/html": [
       "<div>\n",
       "<style scoped>\n",
       "    .dataframe tbody tr th:only-of-type {\n",
       "        vertical-align: middle;\n",
       "    }\n",
       "\n",
       "    .dataframe tbody tr th {\n",
       "        vertical-align: top;\n",
       "    }\n",
       "\n",
       "    .dataframe thead th {\n",
       "        text-align: right;\n",
       "    }\n",
       "</style>\n",
       "<table border=\"1\" class=\"dataframe\">\n",
       "  <thead>\n",
       "    <tr style=\"text-align: right;\">\n",
       "      <th></th>\n",
       "      <th>age</th>\n",
       "      <th>campaign</th>\n",
       "      <th>pdays</th>\n",
       "      <th>previous</th>\n",
       "      <th>emp.var.rate</th>\n",
       "      <th>cons.price.idx</th>\n",
       "      <th>cons.conf.idx</th>\n",
       "      <th>euribor3m</th>\n",
       "      <th>nr.employed</th>\n",
       "      <th>apr</th>\n",
       "      <th>...</th>\n",
       "      <th>loan_unknown</th>\n",
       "      <th>loan_yes</th>\n",
       "      <th>poutcome_no</th>\n",
       "      <th>poutcome_unknown</th>\n",
       "      <th>poutcome_yes</th>\n",
       "      <th>marital_failure</th>\n",
       "      <th>marital_nonexistent</th>\n",
       "      <th>marital_success</th>\n",
       "      <th>contact_cellular</th>\n",
       "      <th>contact_telephone</th>\n",
       "    </tr>\n",
       "  </thead>\n",
       "  <tbody>\n",
       "    <tr>\n",
       "      <th>0</th>\n",
       "      <td>56</td>\n",
       "      <td>1</td>\n",
       "      <td>999</td>\n",
       "      <td>0</td>\n",
       "      <td>1.1</td>\n",
       "      <td>93.994</td>\n",
       "      <td>-36.4</td>\n",
       "      <td>4.857</td>\n",
       "      <td>5191.0</td>\n",
       "      <td>0.0</td>\n",
       "      <td>...</td>\n",
       "      <td>0.0</td>\n",
       "      <td>0.0</td>\n",
       "      <td>0.0</td>\n",
       "      <td>1.0</td>\n",
       "      <td>0.0</td>\n",
       "      <td>0.0</td>\n",
       "      <td>1.0</td>\n",
       "      <td>0.0</td>\n",
       "      <td>0.0</td>\n",
       "      <td>1.0</td>\n",
       "    </tr>\n",
       "    <tr>\n",
       "      <th>1</th>\n",
       "      <td>57</td>\n",
       "      <td>1</td>\n",
       "      <td>999</td>\n",
       "      <td>0</td>\n",
       "      <td>1.1</td>\n",
       "      <td>93.994</td>\n",
       "      <td>-36.4</td>\n",
       "      <td>4.857</td>\n",
       "      <td>5191.0</td>\n",
       "      <td>0.0</td>\n",
       "      <td>...</td>\n",
       "      <td>0.0</td>\n",
       "      <td>0.0</td>\n",
       "      <td>0.0</td>\n",
       "      <td>1.0</td>\n",
       "      <td>0.0</td>\n",
       "      <td>0.0</td>\n",
       "      <td>1.0</td>\n",
       "      <td>0.0</td>\n",
       "      <td>0.0</td>\n",
       "      <td>1.0</td>\n",
       "    </tr>\n",
       "    <tr>\n",
       "      <th>2</th>\n",
       "      <td>37</td>\n",
       "      <td>1</td>\n",
       "      <td>999</td>\n",
       "      <td>0</td>\n",
       "      <td>1.1</td>\n",
       "      <td>93.994</td>\n",
       "      <td>-36.4</td>\n",
       "      <td>4.857</td>\n",
       "      <td>5191.0</td>\n",
       "      <td>0.0</td>\n",
       "      <td>...</td>\n",
       "      <td>0.0</td>\n",
       "      <td>0.0</td>\n",
       "      <td>0.0</td>\n",
       "      <td>1.0</td>\n",
       "      <td>0.0</td>\n",
       "      <td>0.0</td>\n",
       "      <td>1.0</td>\n",
       "      <td>0.0</td>\n",
       "      <td>0.0</td>\n",
       "      <td>1.0</td>\n",
       "    </tr>\n",
       "    <tr>\n",
       "      <th>3</th>\n",
       "      <td>56</td>\n",
       "      <td>1</td>\n",
       "      <td>999</td>\n",
       "      <td>0</td>\n",
       "      <td>1.1</td>\n",
       "      <td>93.994</td>\n",
       "      <td>-36.4</td>\n",
       "      <td>4.857</td>\n",
       "      <td>5191.0</td>\n",
       "      <td>0.0</td>\n",
       "      <td>...</td>\n",
       "      <td>0.0</td>\n",
       "      <td>1.0</td>\n",
       "      <td>0.0</td>\n",
       "      <td>1.0</td>\n",
       "      <td>0.0</td>\n",
       "      <td>0.0</td>\n",
       "      <td>1.0</td>\n",
       "      <td>0.0</td>\n",
       "      <td>0.0</td>\n",
       "      <td>1.0</td>\n",
       "    </tr>\n",
       "    <tr>\n",
       "      <th>4</th>\n",
       "      <td>45</td>\n",
       "      <td>1</td>\n",
       "      <td>999</td>\n",
       "      <td>0</td>\n",
       "      <td>1.1</td>\n",
       "      <td>93.994</td>\n",
       "      <td>-36.4</td>\n",
       "      <td>4.857</td>\n",
       "      <td>5191.0</td>\n",
       "      <td>0.0</td>\n",
       "      <td>...</td>\n",
       "      <td>0.0</td>\n",
       "      <td>0.0</td>\n",
       "      <td>0.0</td>\n",
       "      <td>1.0</td>\n",
       "      <td>0.0</td>\n",
       "      <td>0.0</td>\n",
       "      <td>1.0</td>\n",
       "      <td>0.0</td>\n",
       "      <td>0.0</td>\n",
       "      <td>1.0</td>\n",
       "    </tr>\n",
       "  </tbody>\n",
       "</table>\n",
       "<p>5 rows × 52 columns</p>\n",
       "</div>"
      ],
      "text/plain": [
       "   age  campaign  pdays  previous  emp.var.rate  cons.price.idx  \\\n",
       "0   56         1    999         0           1.1          93.994   \n",
       "1   57         1    999         0           1.1          93.994   \n",
       "2   37         1    999         0           1.1          93.994   \n",
       "3   56         1    999         0           1.1          93.994   \n",
       "4   45         1    999         0           1.1          93.994   \n",
       "\n",
       "   cons.conf.idx  euribor3m  nr.employed  apr  ...  loan_unknown  loan_yes  \\\n",
       "0          -36.4      4.857       5191.0  0.0  ...           0.0       0.0   \n",
       "1          -36.4      4.857       5191.0  0.0  ...           0.0       0.0   \n",
       "2          -36.4      4.857       5191.0  0.0  ...           0.0       0.0   \n",
       "3          -36.4      4.857       5191.0  0.0  ...           0.0       1.0   \n",
       "4          -36.4      4.857       5191.0  0.0  ...           0.0       0.0   \n",
       "\n",
       "   poutcome_no  poutcome_unknown  poutcome_yes  marital_failure  \\\n",
       "0          0.0               1.0           0.0              0.0   \n",
       "1          0.0               1.0           0.0              0.0   \n",
       "2          0.0               1.0           0.0              0.0   \n",
       "3          0.0               1.0           0.0              0.0   \n",
       "4          0.0               1.0           0.0              0.0   \n",
       "\n",
       "   marital_nonexistent  marital_success  contact_cellular  contact_telephone  \n",
       "0                  1.0              0.0               0.0                1.0  \n",
       "1                  1.0              0.0               0.0                1.0  \n",
       "2                  1.0              0.0               0.0                1.0  \n",
       "3                  1.0              0.0               0.0                1.0  \n",
       "4                  1.0              0.0               0.0                1.0  \n",
       "\n",
       "[5 rows x 52 columns]"
      ]
     },
     "execution_count": 27,
     "metadata": {},
     "output_type": "execute_result"
    }
   ],
   "source": [
    "temp.to_csv('train_new.csv', index=False)\n",
    "temp.head()"
   ]
  },
  {
   "cell_type": "code",
   "execution_count": 28,
   "metadata": {},
   "outputs": [],
   "source": [
    "t = pd.read_csv('test.csv')\n",
    "temp = pd.read_csv('train_new.csv')\n",
    "y = df['y']\n",
    "scaler = MinMaxScaler()\n",
    "scaler.fit(temp)\n",
    "temp = scaler.transform(temp)"
   ]
  },
  {
   "cell_type": "code",
   "execution_count": 29,
   "metadata": {},
   "outputs": [],
   "source": [
    "X_train, X_test, y_train, y_test = train_test_split(temp, y, test_size = 0.3)"
   ]
  },
  {
   "cell_type": "code",
   "execution_count": null,
   "metadata": {},
   "outputs": [],
   "source": []
  },
  {
   "cell_type": "markdown",
   "metadata": {},
   "source": [
    "# Test Data Preprocessing"
   ]
  },
  {
   "cell_type": "code",
   "execution_count": 30,
   "metadata": {},
   "outputs": [],
   "source": [
    "df = pd.read_csv('test.csv')\n",
    "temp = df.copy()\n",
    "enc = OneHotEncoder(handle_unknown='ignore')"
   ]
  },
  {
   "cell_type": "code",
   "execution_count": 31,
   "metadata": {},
   "outputs": [],
   "source": [
    "df = pd.read_csv('test.csv')\n",
    "temp = df.copy()\n",
    "enc = OneHotEncoder(handle_unknown='ignore')"
   ]
  },
  {
   "cell_type": "code",
   "execution_count": 32,
   "metadata": {},
   "outputs": [],
   "source": [
    "a = np.array(df['month'])\n",
    "a = np.reshape(a, (8210,1))\n",
    "enc.fit(a)\n",
    "b = enc.transform(a).toarray()\n",
    "apr = pd.DataFrame(b[:,0])\n",
    "aug = pd.DataFrame(b[:,1])\n",
    "dec = pd.DataFrame(b[:,2])\n",
    "jul = pd.DataFrame(b[:,3])\n",
    "jun = pd.DataFrame(b[:,4])\n",
    "mar = pd.DataFrame(b[:,5])\n",
    "may = pd.DataFrame(b[:,6])\n",
    "nov = pd.DataFrame(b[:,7])\n",
    "ocb = pd.DataFrame(b[:,8])\n",
    "sep = pd.DataFrame(b[:,9])\n",
    "temp = temp.assign(apr=apr,aug=aug,dec=dec,jul=jul,jun=jun,mar=mar,may=may,nov=nov,ocb=ocb,sep=sep)"
   ]
  },
  {
   "cell_type": "code",
   "execution_count": 33,
   "metadata": {},
   "outputs": [],
   "source": [
    "j = np.array(df['job'])\n",
    "j = np.reshape(j, (8210,1))\n",
    "enc.fit(j)\n",
    "enc.categories_\n",
    "job = enc.transform(j).toarray()\n",
    "admin = pd.DataFrame(job[:,0])\n",
    "blue_collar = pd.DataFrame(job[:,1])\n",
    "entrepreneur = pd.DataFrame(job[:,2])\n",
    "housemaid = pd.DataFrame(job[:,3])\n",
    "management = pd.DataFrame(job[:,4])\n",
    "retired = pd.DataFrame(job[:,5])\n",
    "self_employed = pd.DataFrame(job[:,6])\n",
    "services = pd.DataFrame(job[:,7])\n",
    "student = pd.DataFrame(job[:,8])\n",
    "technician = pd.DataFrame(job[:,9])\n",
    "unemployed = pd.DataFrame(job[:,10])\n",
    "unknown = pd.DataFrame(job[:,11])\n",
    "temp = temp.assign(admin=admin,blue_collar=blue_collar,entrepreneur=entrepreneur,housemaid=housemaid,management=management,retired=retired,self_employed=self_employed,services=services,student=student,technician=technician,unemployed=unemployed,unknown=unknown)"
   ]
  },
  {
   "cell_type": "code",
   "execution_count": 34,
   "metadata": {},
   "outputs": [],
   "source": [
    "h = np.array(df['housing'])\n",
    "h = np.reshape(h, (8210,1))\n",
    "enc.fit(h)\n",
    "enc.categories_\n",
    "housing = enc.transform(h).toarray()\n",
    "housing_no = pd.DataFrame(housing[:,0])\n",
    "housing_unknown = pd.DataFrame(housing[:,1])\n",
    "housing_yes = pd.DataFrame(housing[:,2])\n",
    "temp = temp.assign(housing_no=housing_no,housing_unknown=housing_unknown,housing_yes=housing_yes)"
   ]
  },
  {
   "cell_type": "code",
   "execution_count": 35,
   "metadata": {},
   "outputs": [],
   "source": [
    "e = np.array(df['education'])\n",
    "e = np.reshape(e, (8210,1))\n",
    "enc.fit(e)\n",
    "enc.categories_\n",
    "education = enc.transform(e).toarray()\n",
    "basic4y = pd.DataFrame(education[:,0])\n",
    "basic6y = pd.DataFrame(education[:,0])\n",
    "basic9y = pd.DataFrame(education[:,0])\n",
    "highschool = pd.DataFrame(education[:,0])\n",
    "illiterate = pd.DataFrame(education[:,0])\n",
    "professionalcourse = pd.DataFrame(education[:,0])\n",
    "universitydegree = pd.DataFrame(education[:,0])\n",
    "unknown = pd.DataFrame(education[:,0])\n",
    "temp = pd.DataFrame(temp).assign(basic4y=basic4y,basic6y=basic6y,basic9y=basic9y,highschool=highschool,illiterate=illiterate,professionalcourse=professionalcourse,universitydegree=universitydegree,unknown=unknown)"
   ]
  },
  {
   "cell_type": "code",
   "execution_count": 36,
   "metadata": {},
   "outputs": [],
   "source": [
    "l = np.array(df['loan'])\n",
    "l = np.reshape(l, (8210,1))\n",
    "enc.fit(l)\n",
    "enc.categories_\n",
    "loan = enc.transform(l).toarray()\n",
    "loan_no = pd.DataFrame(loan[:,0])\n",
    "loan_unknown = pd.DataFrame(loan[:,1])\n",
    "loan_yes = pd.DataFrame(loan[:,2])\n",
    "temp = temp.assign(loan_no=loan_no,loan_unknown=loan_unknown,loan_yes=loan_yes)"
   ]
  },
  {
   "cell_type": "code",
   "execution_count": 37,
   "metadata": {},
   "outputs": [],
   "source": [
    "p = np.array(df['poutcome'])\n",
    "p = np.reshape(p, (8210,1))\n",
    "enc.fit(p)\n",
    "enc.categories_\n",
    "poutcome = enc.transform(p).toarray()\n",
    "poutcome_no = pd.DataFrame(poutcome[:,0])\n",
    "poutcome_unknown = pd.DataFrame(poutcome[:,1])\n",
    "poutcome_yes = pd.DataFrame(poutcome[:,2])\n",
    "temp = temp.assign(poutcome_no=poutcome_no,poutcome_unknown=poutcome_unknown,poutcome_yes=poutcome_yes)"
   ]
  },
  {
   "cell_type": "code",
   "execution_count": 38,
   "metadata": {},
   "outputs": [],
   "source": [
    "m = np.array(df['marital'])\n",
    "m = np.reshape(m, (8210,1))\n",
    "enc.fit(m)\n",
    "enc.categories_\n",
    "marital = enc.transform(m).toarray()\n",
    "marital_failure = pd.DataFrame(poutcome[:,0])\n",
    "marital_nonexistent = pd.DataFrame(poutcome[:,1])\n",
    "marital_success = pd.DataFrame(poutcome[:,2])\n",
    "temp = temp.assign(marital_failure=marital_failure,marital_nonexistent=marital_nonexistent,marital_success=marital_success)"
   ]
  },
  {
   "cell_type": "code",
   "execution_count": 39,
   "metadata": {},
   "outputs": [],
   "source": [
    "c = np.array(df['contact'])\n",
    "c = np.reshape(c, (8210,1))\n",
    "enc.fit(c)\n",
    "enc.categories_\n",
    "contact = enc.transform(c).toarray()\n",
    "contact_cellular = pd.DataFrame(poutcome[:,0])\n",
    "contact_telephone = pd.DataFrame(poutcome[:,1])\n",
    "temp = temp.assign(contact_cellular=contact_cellular,contact_telephone=contact_telephone)"
   ]
  },
  {
   "cell_type": "code",
   "execution_count": 40,
   "metadata": {},
   "outputs": [],
   "source": [
    "temp = temp.drop(['id','month','marital','education','contact','day_of_week','duration','poutcome','job','default','housing','loan'],axis = 1)"
   ]
  },
  {
   "cell_type": "code",
   "execution_count": 41,
   "metadata": {},
   "outputs": [
    {
     "data": {
      "text/html": [
       "<div>\n",
       "<style scoped>\n",
       "    .dataframe tbody tr th:only-of-type {\n",
       "        vertical-align: middle;\n",
       "    }\n",
       "\n",
       "    .dataframe tbody tr th {\n",
       "        vertical-align: top;\n",
       "    }\n",
       "\n",
       "    .dataframe thead th {\n",
       "        text-align: right;\n",
       "    }\n",
       "</style>\n",
       "<table border=\"1\" class=\"dataframe\">\n",
       "  <thead>\n",
       "    <tr style=\"text-align: right;\">\n",
       "      <th></th>\n",
       "      <th>age</th>\n",
       "      <th>campaign</th>\n",
       "      <th>pdays</th>\n",
       "      <th>previous</th>\n",
       "      <th>emp.var.rate</th>\n",
       "      <th>cons.price.idx</th>\n",
       "      <th>cons.conf.idx</th>\n",
       "      <th>euribor3m</th>\n",
       "      <th>nr.employed</th>\n",
       "      <th>apr</th>\n",
       "      <th>...</th>\n",
       "      <th>loan_unknown</th>\n",
       "      <th>loan_yes</th>\n",
       "      <th>poutcome_no</th>\n",
       "      <th>poutcome_unknown</th>\n",
       "      <th>poutcome_yes</th>\n",
       "      <th>marital_failure</th>\n",
       "      <th>marital_nonexistent</th>\n",
       "      <th>marital_success</th>\n",
       "      <th>contact_cellular</th>\n",
       "      <th>contact_telephone</th>\n",
       "    </tr>\n",
       "  </thead>\n",
       "  <tbody>\n",
       "    <tr>\n",
       "      <th>0</th>\n",
       "      <td>40</td>\n",
       "      <td>1</td>\n",
       "      <td>999</td>\n",
       "      <td>0</td>\n",
       "      <td>1.1</td>\n",
       "      <td>93.994</td>\n",
       "      <td>-36.4</td>\n",
       "      <td>4.857</td>\n",
       "      <td>5191.0</td>\n",
       "      <td>0.0</td>\n",
       "      <td>...</td>\n",
       "      <td>0.0</td>\n",
       "      <td>0.0</td>\n",
       "      <td>0.0</td>\n",
       "      <td>1.0</td>\n",
       "      <td>0.0</td>\n",
       "      <td>0.0</td>\n",
       "      <td>1.0</td>\n",
       "      <td>0.0</td>\n",
       "      <td>0.0</td>\n",
       "      <td>1.0</td>\n",
       "    </tr>\n",
       "    <tr>\n",
       "      <th>1</th>\n",
       "      <td>59</td>\n",
       "      <td>1</td>\n",
       "      <td>999</td>\n",
       "      <td>0</td>\n",
       "      <td>1.1</td>\n",
       "      <td>93.994</td>\n",
       "      <td>-36.4</td>\n",
       "      <td>4.857</td>\n",
       "      <td>5191.0</td>\n",
       "      <td>0.0</td>\n",
       "      <td>...</td>\n",
       "      <td>0.0</td>\n",
       "      <td>0.0</td>\n",
       "      <td>0.0</td>\n",
       "      <td>1.0</td>\n",
       "      <td>0.0</td>\n",
       "      <td>0.0</td>\n",
       "      <td>1.0</td>\n",
       "      <td>0.0</td>\n",
       "      <td>0.0</td>\n",
       "      <td>1.0</td>\n",
       "    </tr>\n",
       "    <tr>\n",
       "      <th>2</th>\n",
       "      <td>41</td>\n",
       "      <td>1</td>\n",
       "      <td>999</td>\n",
       "      <td>0</td>\n",
       "      <td>1.1</td>\n",
       "      <td>93.994</td>\n",
       "      <td>-36.4</td>\n",
       "      <td>4.857</td>\n",
       "      <td>5191.0</td>\n",
       "      <td>0.0</td>\n",
       "      <td>...</td>\n",
       "      <td>0.0</td>\n",
       "      <td>0.0</td>\n",
       "      <td>0.0</td>\n",
       "      <td>1.0</td>\n",
       "      <td>0.0</td>\n",
       "      <td>0.0</td>\n",
       "      <td>1.0</td>\n",
       "      <td>0.0</td>\n",
       "      <td>0.0</td>\n",
       "      <td>1.0</td>\n",
       "    </tr>\n",
       "    <tr>\n",
       "      <th>3</th>\n",
       "      <td>25</td>\n",
       "      <td>1</td>\n",
       "      <td>999</td>\n",
       "      <td>0</td>\n",
       "      <td>1.1</td>\n",
       "      <td>93.994</td>\n",
       "      <td>-36.4</td>\n",
       "      <td>4.857</td>\n",
       "      <td>5191.0</td>\n",
       "      <td>0.0</td>\n",
       "      <td>...</td>\n",
       "      <td>0.0</td>\n",
       "      <td>0.0</td>\n",
       "      <td>0.0</td>\n",
       "      <td>1.0</td>\n",
       "      <td>0.0</td>\n",
       "      <td>0.0</td>\n",
       "      <td>1.0</td>\n",
       "      <td>0.0</td>\n",
       "      <td>0.0</td>\n",
       "      <td>1.0</td>\n",
       "    </tr>\n",
       "    <tr>\n",
       "      <th>4</th>\n",
       "      <td>57</td>\n",
       "      <td>1</td>\n",
       "      <td>999</td>\n",
       "      <td>0</td>\n",
       "      <td>1.1</td>\n",
       "      <td>93.994</td>\n",
       "      <td>-36.4</td>\n",
       "      <td>4.857</td>\n",
       "      <td>5191.0</td>\n",
       "      <td>0.0</td>\n",
       "      <td>...</td>\n",
       "      <td>0.0</td>\n",
       "      <td>0.0</td>\n",
       "      <td>0.0</td>\n",
       "      <td>1.0</td>\n",
       "      <td>0.0</td>\n",
       "      <td>0.0</td>\n",
       "      <td>1.0</td>\n",
       "      <td>0.0</td>\n",
       "      <td>0.0</td>\n",
       "      <td>1.0</td>\n",
       "    </tr>\n",
       "  </tbody>\n",
       "</table>\n",
       "<p>5 rows × 52 columns</p>\n",
       "</div>"
      ],
      "text/plain": [
       "   age  campaign  pdays  previous  emp.var.rate  cons.price.idx  \\\n",
       "0   40         1    999         0           1.1          93.994   \n",
       "1   59         1    999         0           1.1          93.994   \n",
       "2   41         1    999         0           1.1          93.994   \n",
       "3   25         1    999         0           1.1          93.994   \n",
       "4   57         1    999         0           1.1          93.994   \n",
       "\n",
       "   cons.conf.idx  euribor3m  nr.employed  apr  ...  loan_unknown  loan_yes  \\\n",
       "0          -36.4      4.857       5191.0  0.0  ...           0.0       0.0   \n",
       "1          -36.4      4.857       5191.0  0.0  ...           0.0       0.0   \n",
       "2          -36.4      4.857       5191.0  0.0  ...           0.0       0.0   \n",
       "3          -36.4      4.857       5191.0  0.0  ...           0.0       0.0   \n",
       "4          -36.4      4.857       5191.0  0.0  ...           0.0       0.0   \n",
       "\n",
       "   poutcome_no  poutcome_unknown  poutcome_yes  marital_failure  \\\n",
       "0          0.0               1.0           0.0              0.0   \n",
       "1          0.0               1.0           0.0              0.0   \n",
       "2          0.0               1.0           0.0              0.0   \n",
       "3          0.0               1.0           0.0              0.0   \n",
       "4          0.0               1.0           0.0              0.0   \n",
       "\n",
       "   marital_nonexistent  marital_success  contact_cellular  contact_telephone  \n",
       "0                  1.0              0.0               0.0                1.0  \n",
       "1                  1.0              0.0               0.0                1.0  \n",
       "2                  1.0              0.0               0.0                1.0  \n",
       "3                  1.0              0.0               0.0                1.0  \n",
       "4                  1.0              0.0               0.0                1.0  \n",
       "\n",
       "[5 rows x 52 columns]"
      ]
     },
     "execution_count": 41,
     "metadata": {},
     "output_type": "execute_result"
    }
   ],
   "source": [
    "temp.head()"
   ]
  },
  {
   "cell_type": "code",
   "execution_count": 42,
   "metadata": {},
   "outputs": [],
   "source": [
    "scaler = MinMaxScaler()\n",
    "scaler.fit(temp)\n",
    "temp = scaler.transform(temp)\n",
    "pd.DataFrame(temp).to_csv('test_new.csv',index=False)"
   ]
  },
  {
   "cell_type": "code",
   "execution_count": null,
   "metadata": {},
   "outputs": [],
   "source": []
  },
  {
   "cell_type": "markdown",
   "metadata": {},
   "source": [
    "# Models"
   ]
  },
  {
   "cell_type": "markdown",
   "metadata": {},
   "source": [
    "# KNN"
   ]
  },
  {
   "cell_type": "code",
   "execution_count": 43,
   "metadata": {},
   "outputs": [
    {
     "name": "stdout",
     "output_type": "stream",
     "text": [
      "Accuracy of KNN classifier is 0.8879118657772387\n"
     ]
    }
   ],
   "source": [
    "clf5 = neighbors.KNeighborsClassifier(n_neighbors = 5)\n",
    "clf5.fit(X_train, y_train)\n",
    "print('Accuracy of KNN classifier is', clf5.score(X_test, y_test))"
   ]
  },
  {
   "cell_type": "markdown",
   "metadata": {},
   "source": [
    "# SVM"
   ]
  },
  {
   "cell_type": "code",
   "execution_count": 44,
   "metadata": {},
   "outputs": [
    {
     "name": "stdout",
     "output_type": "stream",
     "text": [
      "Accuracy of SVM is 0.8941782898726501\n"
     ]
    }
   ],
   "source": [
    "clf1 = svm.SVC(gamma = 0.001, C = 2, kernel = 'rbf', shrinking=True, max_iter=50000, degree = 3)\n",
    "clf1.fit(X_train, y_train)\n",
    "print('Accuracy of SVM is', clf1.score(X_test, y_test))"
   ]
  },
  {
   "cell_type": "code",
   "execution_count": 45,
   "metadata": {},
   "outputs": [
    {
     "name": "stderr",
     "output_type": "stream",
     "text": [
      "Using TensorFlow backend.\n"
     ]
    }
   ],
   "source": [
    "from keras import models, layers, Sequential, Model\n",
    "from keras.preprocessing import sequence\n",
    "import pandas as pd\n",
    "from sklearn.preprocessing import MinMaxScaler\n",
    "from sklearn.model_selection import train_test_split\n",
    "import numpy as np\n",
    "import pandas as pd"
   ]
  },
  {
   "cell_type": "code",
   "execution_count": 46,
   "metadata": {},
   "outputs": [
    {
     "data": {
      "text/html": [
       "<div>\n",
       "<style scoped>\n",
       "    .dataframe tbody tr th:only-of-type {\n",
       "        vertical-align: middle;\n",
       "    }\n",
       "\n",
       "    .dataframe tbody tr th {\n",
       "        vertical-align: top;\n",
       "    }\n",
       "\n",
       "    .dataframe thead th {\n",
       "        text-align: right;\n",
       "    }\n",
       "</style>\n",
       "<table border=\"1\" class=\"dataframe\">\n",
       "  <thead>\n",
       "    <tr style=\"text-align: right;\">\n",
       "      <th></th>\n",
       "      <th>age</th>\n",
       "      <th>campaign</th>\n",
       "      <th>pdays</th>\n",
       "      <th>previous</th>\n",
       "      <th>emp.var.rate</th>\n",
       "      <th>cons.price.idx</th>\n",
       "      <th>cons.conf.idx</th>\n",
       "      <th>euribor3m</th>\n",
       "      <th>nr.employed</th>\n",
       "      <th>apr</th>\n",
       "      <th>...</th>\n",
       "      <th>loan_unknown</th>\n",
       "      <th>loan_yes</th>\n",
       "      <th>poutcome_no</th>\n",
       "      <th>poutcome_unknown</th>\n",
       "      <th>poutcome_yes</th>\n",
       "      <th>marital_failure</th>\n",
       "      <th>marital_nonexistent</th>\n",
       "      <th>marital_success</th>\n",
       "      <th>contact_cellular</th>\n",
       "      <th>contact_telephone</th>\n",
       "    </tr>\n",
       "  </thead>\n",
       "  <tbody>\n",
       "    <tr>\n",
       "      <th>0</th>\n",
       "      <td>56</td>\n",
       "      <td>1</td>\n",
       "      <td>999</td>\n",
       "      <td>0</td>\n",
       "      <td>1.1</td>\n",
       "      <td>93.994</td>\n",
       "      <td>-36.4</td>\n",
       "      <td>4.857</td>\n",
       "      <td>5191.0</td>\n",
       "      <td>0.0</td>\n",
       "      <td>...</td>\n",
       "      <td>0.0</td>\n",
       "      <td>0.0</td>\n",
       "      <td>0.0</td>\n",
       "      <td>1.0</td>\n",
       "      <td>0.0</td>\n",
       "      <td>0.0</td>\n",
       "      <td>1.0</td>\n",
       "      <td>0.0</td>\n",
       "      <td>0.0</td>\n",
       "      <td>1.0</td>\n",
       "    </tr>\n",
       "    <tr>\n",
       "      <th>1</th>\n",
       "      <td>57</td>\n",
       "      <td>1</td>\n",
       "      <td>999</td>\n",
       "      <td>0</td>\n",
       "      <td>1.1</td>\n",
       "      <td>93.994</td>\n",
       "      <td>-36.4</td>\n",
       "      <td>4.857</td>\n",
       "      <td>5191.0</td>\n",
       "      <td>0.0</td>\n",
       "      <td>...</td>\n",
       "      <td>0.0</td>\n",
       "      <td>0.0</td>\n",
       "      <td>0.0</td>\n",
       "      <td>1.0</td>\n",
       "      <td>0.0</td>\n",
       "      <td>0.0</td>\n",
       "      <td>1.0</td>\n",
       "      <td>0.0</td>\n",
       "      <td>0.0</td>\n",
       "      <td>1.0</td>\n",
       "    </tr>\n",
       "    <tr>\n",
       "      <th>2</th>\n",
       "      <td>37</td>\n",
       "      <td>1</td>\n",
       "      <td>999</td>\n",
       "      <td>0</td>\n",
       "      <td>1.1</td>\n",
       "      <td>93.994</td>\n",
       "      <td>-36.4</td>\n",
       "      <td>4.857</td>\n",
       "      <td>5191.0</td>\n",
       "      <td>0.0</td>\n",
       "      <td>...</td>\n",
       "      <td>0.0</td>\n",
       "      <td>0.0</td>\n",
       "      <td>0.0</td>\n",
       "      <td>1.0</td>\n",
       "      <td>0.0</td>\n",
       "      <td>0.0</td>\n",
       "      <td>1.0</td>\n",
       "      <td>0.0</td>\n",
       "      <td>0.0</td>\n",
       "      <td>1.0</td>\n",
       "    </tr>\n",
       "    <tr>\n",
       "      <th>3</th>\n",
       "      <td>56</td>\n",
       "      <td>1</td>\n",
       "      <td>999</td>\n",
       "      <td>0</td>\n",
       "      <td>1.1</td>\n",
       "      <td>93.994</td>\n",
       "      <td>-36.4</td>\n",
       "      <td>4.857</td>\n",
       "      <td>5191.0</td>\n",
       "      <td>0.0</td>\n",
       "      <td>...</td>\n",
       "      <td>0.0</td>\n",
       "      <td>1.0</td>\n",
       "      <td>0.0</td>\n",
       "      <td>1.0</td>\n",
       "      <td>0.0</td>\n",
       "      <td>0.0</td>\n",
       "      <td>1.0</td>\n",
       "      <td>0.0</td>\n",
       "      <td>0.0</td>\n",
       "      <td>1.0</td>\n",
       "    </tr>\n",
       "    <tr>\n",
       "      <th>4</th>\n",
       "      <td>45</td>\n",
       "      <td>1</td>\n",
       "      <td>999</td>\n",
       "      <td>0</td>\n",
       "      <td>1.1</td>\n",
       "      <td>93.994</td>\n",
       "      <td>-36.4</td>\n",
       "      <td>4.857</td>\n",
       "      <td>5191.0</td>\n",
       "      <td>0.0</td>\n",
       "      <td>...</td>\n",
       "      <td>0.0</td>\n",
       "      <td>0.0</td>\n",
       "      <td>0.0</td>\n",
       "      <td>1.0</td>\n",
       "      <td>0.0</td>\n",
       "      <td>0.0</td>\n",
       "      <td>1.0</td>\n",
       "      <td>0.0</td>\n",
       "      <td>0.0</td>\n",
       "      <td>1.0</td>\n",
       "    </tr>\n",
       "  </tbody>\n",
       "</table>\n",
       "<p>5 rows × 52 columns</p>\n",
       "</div>"
      ],
      "text/plain": [
       "   age  campaign  pdays  previous  emp.var.rate  cons.price.idx  \\\n",
       "0   56         1    999         0           1.1          93.994   \n",
       "1   57         1    999         0           1.1          93.994   \n",
       "2   37         1    999         0           1.1          93.994   \n",
       "3   56         1    999         0           1.1          93.994   \n",
       "4   45         1    999         0           1.1          93.994   \n",
       "\n",
       "   cons.conf.idx  euribor3m  nr.employed  apr  ...  loan_unknown  loan_yes  \\\n",
       "0          -36.4      4.857       5191.0  0.0  ...           0.0       0.0   \n",
       "1          -36.4      4.857       5191.0  0.0  ...           0.0       0.0   \n",
       "2          -36.4      4.857       5191.0  0.0  ...           0.0       0.0   \n",
       "3          -36.4      4.857       5191.0  0.0  ...           0.0       1.0   \n",
       "4          -36.4      4.857       5191.0  0.0  ...           0.0       0.0   \n",
       "\n",
       "   poutcome_no  poutcome_unknown  poutcome_yes  marital_failure  \\\n",
       "0          0.0               1.0           0.0              0.0   \n",
       "1          0.0               1.0           0.0              0.0   \n",
       "2          0.0               1.0           0.0              0.0   \n",
       "3          0.0               1.0           0.0              0.0   \n",
       "4          0.0               1.0           0.0              0.0   \n",
       "\n",
       "   marital_nonexistent  marital_success  contact_cellular  contact_telephone  \n",
       "0                  1.0              0.0               0.0                1.0  \n",
       "1                  1.0              0.0               0.0                1.0  \n",
       "2                  1.0              0.0               0.0                1.0  \n",
       "3                  1.0              0.0               0.0                1.0  \n",
       "4                  1.0              0.0               0.0                1.0  \n",
       "\n",
       "[5 rows x 52 columns]"
      ]
     },
     "execution_count": 46,
     "metadata": {},
     "output_type": "execute_result"
    }
   ],
   "source": [
    "train = pd.read_csv('train_new.csv')\n",
    "train.head()"
   ]
  },
  {
   "cell_type": "code",
   "execution_count": 47,
   "metadata": {},
   "outputs": [],
   "source": [
    "u = pd.read_csv('test.csv')\n",
    "t = pd.read_csv('train.csv')\n",
    "y = t['y'].tolist()\n",
    "for i in range(len(y)) :\n",
    "    if(y[i] == 'no') :\n",
    "        y[i] = 0\n",
    "    elif(y[i] == 'yes') :\n",
    "        y[i] = 1"
   ]
  },
  {
   "cell_type": "code",
   "execution_count": 48,
   "metadata": {},
   "outputs": [],
   "source": [
    "scaler = MinMaxScaler()\n",
    "scaler.fit(train)\n",
    "temp = scaler.transform(train)"
   ]
  },
  {
   "cell_type": "code",
   "execution_count": 49,
   "metadata": {},
   "outputs": [
    {
     "name": "stdout",
     "output_type": "stream",
     "text": [
      "Model: \"sequential_1\"\n",
      "_________________________________________________________________\n",
      "Layer (type)                 Output Shape              Param #   \n",
      "=================================================================\n",
      "dense_1 (Dense)              (None, 256)               13568     \n",
      "_________________________________________________________________\n",
      "dense_2 (Dense)              (None, 256)               65792     \n",
      "_________________________________________________________________\n",
      "dense_3 (Dense)              (None, 256)               65792     \n",
      "_________________________________________________________________\n",
      "leaky_re_lu_1 (LeakyReLU)    (None, 256)               0         \n",
      "_________________________________________________________________\n",
      "dense_4 (Dense)              (None, 128)               32896     \n",
      "_________________________________________________________________\n",
      "dense_5 (Dense)              (None, 128)               16512     \n",
      "_________________________________________________________________\n",
      "dense_6 (Dense)              (None, 128)               16512     \n",
      "_________________________________________________________________\n",
      "leaky_re_lu_2 (LeakyReLU)    (None, 128)               0         \n",
      "_________________________________________________________________\n",
      "dense_7 (Dense)              (None, 64)                8256      \n",
      "_________________________________________________________________\n",
      "dense_8 (Dense)              (None, 64)                4160      \n",
      "_________________________________________________________________\n",
      "dense_9 (Dense)              (None, 64)                4160      \n",
      "_________________________________________________________________\n",
      "leaky_re_lu_3 (LeakyReLU)    (None, 64)                0         \n",
      "_________________________________________________________________\n",
      "dense_10 (Dense)             (None, 32)                2080      \n",
      "_________________________________________________________________\n",
      "dense_11 (Dense)             (None, 32)                1056      \n",
      "_________________________________________________________________\n",
      "dense_12 (Dense)             (None, 32)                1056      \n",
      "_________________________________________________________________\n",
      "leaky_re_lu_4 (LeakyReLU)    (None, 32)                0         \n",
      "_________________________________________________________________\n",
      "dense_13 (Dense)             (None, 1)                 33        \n",
      "=================================================================\n",
      "Total params: 231,873\n",
      "Trainable params: 231,873\n",
      "Non-trainable params: 0\n",
      "_________________________________________________________________\n"
     ]
    }
   ],
   "source": [
    "model = models.Sequential()\n",
    "model.add(layers.Dense(256, activation='tanh', input_shape=(52,)))\n",
    "model.add(layers.Dense(256, activation='tanh'))\n",
    "model.add(layers.Dense(256, activation='tanh'))\n",
    "model.add(layers.LeakyReLU(alpha=0.3))\n",
    "model.add(layers.Dense(128, activation='tanh'))\n",
    "model.add(layers.Dense(128, activation='tanh'))\n",
    "model.add(layers.Dense(128, activation='tanh'))\n",
    "model.add(layers.LeakyReLU(alpha=0.3))\n",
    "model.add(layers.Dense(64, activation='tanh'))\n",
    "model.add(layers.Dense(64, activation='tanh'))\n",
    "model.add(layers.Dense(64, activation='tanh'))\n",
    "model.add(layers.LeakyReLU(alpha=0.3))\n",
    "model.add(layers.Dense(32, activation='tanh'))\n",
    "model.add(layers.Dense(32, activation='tanh'))\n",
    "model.add(layers.Dense(32, activation='tanh'))\n",
    "model.add(layers.LeakyReLU(alpha=0.3))\n",
    "model.add(layers.Dense(1, activation='sigmoid'))\n",
    "model.summary()"
   ]
  },
  {
   "cell_type": "code",
   "execution_count": 50,
   "metadata": {},
   "outputs": [],
   "source": [
    "model.compile(optimizer='Adam',\n",
    "                loss='mean_squared_error',\n",
    "                metrics=['accuracy'])"
   ]
  },
  {
   "cell_type": "code",
   "execution_count": 51,
   "metadata": {},
   "outputs": [
    {
     "name": "stdout",
     "output_type": "stream",
     "text": [
      "Epoch 1/30\n",
      "32978/32978 [==============================] - 7s 207us/step - loss: 0.0915 - accuracy: 0.8959\n",
      "Epoch 2/30\n",
      "32978/32978 [==============================] - 6s 170us/step - loss: 0.0906 - accuracy: 0.8973\n",
      "Epoch 3/30\n",
      "32978/32978 [==============================] - 8s 249us/step - loss: 0.0904 - accuracy: 0.8970\n",
      "Epoch 4/30\n",
      "32978/32978 [==============================] - 6s 193us/step - loss: 0.0904 - accuracy: 0.8970\n",
      "Epoch 5/30\n",
      "32978/32978 [==============================] - 6s 194us/step - loss: 0.0910 - accuracy: 0.8956\n",
      "Epoch 6/30\n",
      "32978/32978 [==============================] - 6s 197us/step - loss: 0.0934 - accuracy: 0.8910\n",
      "Epoch 7/30\n",
      "32978/32978 [==============================] - ETA: 0s - loss: 0.0952 - accuracy: 0.88 - 7s 200us/step - loss: 0.0952 - accuracy: 0.8894\n",
      "Epoch 8/30\n",
      "32978/32978 [==============================] - 7s 207us/step - loss: 0.0931 - accuracy: 0.8861\n",
      "Epoch 9/30\n",
      "32978/32978 [==============================] - 8s 251us/step - loss: 0.0896 - accuracy: 0.8942\n",
      "Epoch 10/30\n",
      "32978/32978 [==============================] - 8s 256us/step - loss: 0.0900 - accuracy: 0.8979\n",
      "Epoch 11/30\n",
      "32978/32978 [==============================] - 7s 209us/step - loss: 0.0900 - accuracy: 0.8979\n",
      "Epoch 12/30\n",
      "32978/32978 [==============================] - 7s 219us/step - loss: 0.0900 - accuracy: 0.8979\n",
      "Epoch 13/30\n",
      "32978/32978 [==============================] - 7s 208us/step - loss: 0.0900 - accuracy: 0.8979\n",
      "Epoch 14/30\n",
      "32978/32978 [==============================] - 9s 260us/step - loss: 0.0900 - accuracy: 0.8979\n",
      "Epoch 15/30\n",
      "32978/32978 [==============================] - 9s 265us/step - loss: 0.0900 - accuracy: 0.8979\n",
      "Epoch 16/30\n",
      "32978/32978 [==============================] - 10s 301us/step - loss: 0.0900 - accuracy: 0.8979\n",
      "Epoch 17/30\n",
      "32978/32978 [==============================] - 7s 211us/step - loss: 0.0900 - accuracy: 0.8979\n",
      "Epoch 18/30\n",
      "32978/32978 [==============================] - 7s 212us/step - loss: 0.0900 - accuracy: 0.8979\n",
      "Epoch 19/30\n",
      "32978/32978 [==============================] - 7s 217us/step - loss: 0.0900 - accuracy: 0.8979\n",
      "Epoch 20/30\n",
      "32978/32978 [==============================] - 7s 212us/step - loss: 0.0900 - accuracy: 0.8979\n",
      "Epoch 21/30\n",
      "32978/32978 [==============================] - 7s 218us/step - loss: 0.0900 - accuracy: 0.8979\n",
      "Epoch 22/30\n",
      "32978/32978 [==============================] - 7s 223us/step - loss: 0.0900 - accuracy: 0.8979\n",
      "Epoch 23/30\n",
      "32978/32978 [==============================] - 7s 210us/step - loss: 0.0900 - accuracy: 0.8979\n",
      "Epoch 24/30\n",
      "32978/32978 [==============================] - 8s 254us/step - loss: 0.0900 - accuracy: 0.8979\n",
      "Epoch 25/30\n",
      "32978/32978 [==============================] - 7s 224us/step - loss: 0.0900 - accuracy: 0.8979\n",
      "Epoch 26/30\n",
      "32978/32978 [==============================] - 7s 213us/step - loss: 0.0900 - accuracy: 0.8979\n",
      "Epoch 27/30\n",
      "32978/32978 [==============================] - 7s 211us/step - loss: 0.0900 - accuracy: 0.8979\n",
      "Epoch 28/30\n",
      "32978/32978 [==============================] - 7s 210us/step - loss: 0.0900 - accuracy: 0.8979\n",
      "Epoch 29/30\n",
      "32978/32978 [==============================] - 7s 209us/step - loss: 0.0900 - accuracy: 0.8979\n",
      "Epoch 30/30\n",
      "32978/32978 [==============================] - 7s 205us/step - loss: 0.0900 - accuracy: 0.8979\n"
     ]
    },
    {
     "data": {
      "text/plain": [
       "<keras.callbacks.callbacks.History at 0x2624d3c3588>"
      ]
     },
     "execution_count": 51,
     "metadata": {},
     "output_type": "execute_result"
    }
   ],
   "source": [
    "model.fit(temp, y, epochs = 30, batch_size = 64)"
   ]
  },
  {
   "cell_type": "code",
   "execution_count": 52,
   "metadata": {},
   "outputs": [],
   "source": [
    "q = np.array(temp)"
   ]
  },
  {
   "cell_type": "code",
   "execution_count": 53,
   "metadata": {},
   "outputs": [],
   "source": [
    "data_gen = sequence.TimeseriesGenerator(q, y,\n",
    "                                        length=1,\n",
    "                                        batch_size=1)\n",
    "l = []\n",
    "batch = []\n",
    "for w in data_gen :\n",
    "        l.append(w[1])\n",
    "        p = np.reshape(w[0], (1,52))\n",
    "        batch.append(p)"
   ]
  },
  {
   "cell_type": "code",
   "execution_count": 54,
   "metadata": {},
   "outputs": [
    {
     "name": "stdout",
     "output_type": "stream",
     "text": [
      "(32977, 1)\n"
     ]
    }
   ],
   "source": [
    "# print(np.shape(batch))\n",
    "print(np.shape(l))\n",
    "batch = np.array(batch)\n",
    "l = np.array(l)"
   ]
  },
  {
   "cell_type": "markdown",
   "metadata": {},
   "source": [
    "# Model Used in Competetion"
   ]
  },
  {
   "cell_type": "code",
   "execution_count": 55,
   "metadata": {},
   "outputs": [],
   "source": [
    "model1 = Sequential()\n",
    "\n",
    "model1.add(layers.LSTM(units = 128, return_sequences=True, batch_input_shape  = (None, 1, 52)))\n",
    "model1.add(layers.Dropout(0.2))\n",
    "\n",
    "model1.add(layers.LSTM(units = 128, return_sequences=True))\n",
    "model1.add(layers.Dropout(0.2))\n",
    "\n",
    "model1.add(layers.LSTM(units = 128))\n",
    "model1.add(layers.Dropout(0.2))\n",
    "\n",
    "model1.add(layers.Dense(1))\n",
    "model1.add(layers.Activation('relu'))\n",
    "\n",
    "model1.compile(loss = 'mse', optimizer = 'adam', metrics = ['accuracy'])"
   ]
  },
  {
   "cell_type": "code",
   "execution_count": null,
   "metadata": {},
   "outputs": [],
   "source": [
    "model1.fit(batch, l, epochs = 10, verbose = 0)"
   ]
  },
  {
   "cell_type": "code",
   "execution_count": null,
   "metadata": {},
   "outputs": [],
   "source": [
    "test = pd.read_csv('test_new.csv')\n",
    "test = np.array(test)\n",
    "result = model.predict(test)\n",
    "final = []"
   ]
  },
  {
   "cell_type": "code",
   "execution_count": null,
   "metadata": {},
   "outputs": [],
   "source": [
    "result = model1.predict(batch_test, verbose = 1)"
   ]
  },
  {
   "cell_type": "code",
   "execution_count": null,
   "metadata": {},
   "outputs": [],
   "source": [
    "for i in range(len(result)) :\n",
    "    if(result[i] >= 0.57) :\n",
    "        final.append('yes')\n",
    "    else :\n",
    "        final.append('no')\n",
    "        \n",
    "\n",
    "i=0\n",
    "for w in final :\n",
    "    if(w == 'yes') :\n",
    "        i+=1\n",
    "i"
   ]
  },
  {
   "cell_type": "code",
   "execution_count": null,
   "metadata": {},
   "outputs": [],
   "source": [
    "data = pd.DataFrame(u['id'])\n",
    "final = pd.DataFrame(final)\n",
    "data['y'] = final\n",
    "data.to_csv('data.csv',index=False)"
   ]
  }
 ],
 "metadata": {
  "kernelspec": {
   "display_name": "Python 3",
   "language": "python",
   "name": "python3"
  },
  "language_info": {
   "codemirror_mode": {
    "name": "ipython",
    "version": 3
   },
   "file_extension": ".py",
   "mimetype": "text/x-python",
   "name": "python",
   "nbconvert_exporter": "python",
   "pygments_lexer": "ipython3",
   "version": "3.7.5"
  }
 },
 "nbformat": 4,
 "nbformat_minor": 2
}
